{
 "cells": [
  {
   "cell_type": "markdown",
   "metadata": {},
   "source": [
    "# (optional) Practicing Python with Code Katas\n",
    "\n",
    "# Lecture 6\n",
    "\n",
    "## Introduction\n",
    "\n",
    "Like any language, coding in a Python is best learned by doing. Now that you have learned the basics of Python as a programming language, it's time to put your skills to the test by writing code to solve problems based just on their definitioons. In this notebook, you will be presented with a series of coding challenges known as \"katas.\"\n",
    "\n",
    "The term \"kata\" comes from martial arts, where it refers to a detailed choreographed pattern of movements practiced either solo or in pairs. The purpose of a code kata is to provide a challenge that you can work on to improve your skills, and improve your algorithmic thinking. Unlike some of the previous exercises in these lectures, these katas will not have step-by-step instructions. Instead, you will need to use your creativity and problem-solving skills to complete them, although helpful hints are provided along the way if you get stuck."
   ]
  },
  {
   "cell_type": "markdown",
   "metadata": {},
   "source": [
    "## Quicker kata"
   ]
  },
  {
   "cell_type": "markdown",
   "metadata": {},
   "source": [
    "### Checking for palindromes\n",
    "\n",
    "A palindrome is a word, phrase, number, or other sequence of characters that reads the same forward and backward. For example, \"madam\" is a palindrome, while \"sir\" is not. Write a function that takes a string as input and returns `True` if the string is a palindrome and `False` otherwise. The function should be case-insensitive, so that a string like \"Madam\" is still considered a palindrome, and it should ignore spaces, so that the phrase \"nurses run\" is also considered a palindrome.\n",
    "\n",
    "We've provided a function signature (using type hint annotations) for you to fill in. You can use the example test cases given in the docstring to help guide your implementation.\n"
   ]
  },
  {
   "cell_type": "code",
   "execution_count": 6,
   "metadata": {
    "execution": {
     "iopub.execute_input": "2024-08-27T14:32:05.084342Z",
     "iopub.status.busy": "2024-08-27T14:32:05.083806Z",
     "iopub.status.idle": "2024-08-27T14:32:05.089701Z",
     "shell.execute_reply": "2024-08-27T14:32:05.089222Z"
    }
   },
   "outputs": [],
   "source": [
    "def is_palindrome(s):\n",
    "    \"\"\"\n",
    "    This function tests if the input string is a palindrome or not.\n",
    "    A palindrome is a word that is the same forwards and backwards.\n",
    "    The function should ignore spaces and capitalization.\n",
    "\n",
    "    Examples\n",
    "    --------\n",
    "    >>> is_palindrome('radar')\n",
    "    True\n",
    "    >>> is_palindrome('A man a plan a canal Panama')\n",
    "    True\n",
    "    >>> is_palindrome('hello')\n",
    "    False\n",
    "\n",
    "    The function will not modify the input strings.\n",
    "\n",
    "    >>> test = 'nurse run'\n",
    "    >>> is_palindrome(test)\n",
    "    True\n",
    "    >>> test = 'nurse run'\n",
    "    \"\"\"\n",
    "    # Remove spaces and convert to lowercase for comparison\n",
    "    cleaned = s.replace(\" \", \"\").casefold()\n",
    "    return cleaned == cleaned[::-1]"
   ]
  },
  {
   "cell_type": "code",
   "execution_count": null,
   "metadata": {},
   "outputs": [
    {
     "name": "stdout",
     "output_type": "stream",
     "text": [
      "PASSED: is_palindrome('radar') == True\n",
      "PASSED: is_palindrome('level') == True\n",
      "PASSED: is_palindrome('deified') == True\n",
      "PASSED: is_palindrome('A man a plan a canal Panama') == True\n",
      "PASSED: is_palindrome('Nurses run') == True\n",
      "PASSED: is_palindrome('RaceCar') == True\n",
      "PASSED: is_palindrome('hello') == False\n",
      "PASSED: is_palindrome('world') == False\n",
      "PASSED: is_palindrome('palindrome') == False\n",
      "PASSED: is_palindrome('') == True\n",
      "PASSED: is_palindrome('a') == True\n",
      "PASSED: is_palindrome(' ') == True\n",
      "PASSED: is_palindrome('taco cat') == True\n",
      "PASSED: is_palindrome('Was it a car or a cat I saw') == True\n",
      "---\n",
      "All is_palindrome tests passed!\n"
     ]
    }
   ],
   "source": [
    "# Test cases for is_palindrome function\n",
    "test_cases = [\n",
    "    # Simple palindromes\n",
    "    ('radar', True),\n",
    "    ('level', True),\n",
    "    ('deified', True),\n",
    "    # Palindromes with spaces and mixed case\n",
    "    ('A man a plan a canal Panama', True),\n",
    "    ('Nurses run', True),\n",
    "    ('RaceCar', True),\n",
    "    # Not palindromes\n",
    "    ('hello', False),\n",
    "    ('world', False),\n",
    "    ('palindrome', False),\n",
    "    # Edge cases\n",
    "    ('', True),  # empty string\n",
    "    ('a', True),  # single character\n",
    "    (' ', True),  # single space\n",
    "    # Palindromes with multiple spaces\n",
    "    ('taco cat', True),\n",
    "    ('Was it a car or a cat I saw', True)\n",
    "]\n",
    "\n",
    "all_passed = True\n",
    "for string, expected in test_cases:\n",
    "    result = is_palindrome(string)\n",
    "    if result == expected:\n",
    "        print(f\"PASSED: is_palindrome('{string}') == {expected}\")\n",
    "    else:\n",
    "        print(f\"FAILED: is_palindrome('{string}') expected {expected}, but got {result}\")\n",
    "        all_passed = False\n",
    "\n",
    "print(\"---\")\n",
    "if all_passed:\n",
    "    print(\"All is_palindrome tests passed!\")\n",
    "else:\n",
    "    print(\"Some tests failed.\")"
   ]
  },
  {
   "cell_type": "markdown",
   "metadata": {},
   "source": [
    "#### Hints & Tips\n",
    "\n",
    "1. You can use the `[::-1]` slicing syntax to temporarily reverse a string.\n",
    "2. You can use the `'Hi'.casefold()` method to convert a string to lowercase.\n",
    "3. You can use the `str.replace()` method to replace characters in a string.\n",
    "4. Consider when is the best time to make any necessary transformations to the input string (.e.g converting to lowercase)"
   ]
  },
  {
   "cell_type": "markdown",
   "metadata": {},
   "source": [
    "### Checking for anagrams\n",
    "\n",
    "An anagram is a word or phrase formed by rearranging the letters of a different word or phrase, typically using all the original letters exactly once. For example, the word \"listen\" is an anagram of \"silent\". Write a function that takes two strings as input and returns `True` if the two strings are anagrams of each other, and `False` otherwise."
   ]
  },
  {
   "cell_type": "code",
   "execution_count": 10,
   "metadata": {
    "execution": {
     "iopub.execute_input": "2024-08-27T14:32:05.091798Z",
     "iopub.status.busy": "2024-08-27T14:32:05.091467Z",
     "iopub.status.idle": "2024-08-27T14:32:05.094278Z",
     "shell.execute_reply": "2024-08-27T14:32:05.093745Z"
    }
   },
   "outputs": [],
   "source": [
    "def are_anagrams(s1, s2):\n",
    "    \"\"\"\n",
    "    This function tests if the input strings are anagrams of each other.\n",
    "    An anagram is a word that can be formed by rearranging the letters of another word.\n",
    "\n",
    "    Examples\n",
    "    --------\n",
    "\n",
    "    >>> are_anagrams('listen', 'silent')\n",
    "    True\n",
    "    >>> are_anagrams('Orchestra', 'Carthorse')\n",
    "    True\n",
    "    >>> are_anagrams('hello', 'world')\n",
    "    False\n",
    "    >>> test1 = 'Pythonist'\n",
    "    >>> test2 = 'hypnotist'\n",
    "\n",
    "    The function will not modify the input strings.\n",
    "\n",
    "    >>> are_anagrams(test1, test2)\n",
    "    True\n",
    "    >>> test1 == 'Pythonist'\n",
    "    True\n",
    "    >>> test2 == 'hypnotist'\n",
    "    True\n",
    "    \"\"\"\n",
    "    # Remove spaces and convert to lowercase for both strings\n",
    "    s1_clean = s1.replace(\" \", \"\").casefold()\n",
    "    s2_clean = s2.replace(\" \", \"\").casefold()\n",
    "    # Compare sorted characters\n",
    "    return sorted(s1_clean) == sorted(s2_clean)"
   ]
  },
  {
   "cell_type": "code",
   "execution_count": 19,
   "metadata": {},
   "outputs": [
    {
     "name": "stdout",
     "output_type": "stream",
     "text": [
      "PASSED: are_anagrams('listen', 'silent') == True\n",
      "PASSED: are_anagrams('Orchestra', 'Carthorse') == True\n",
      "PASSED: are_anagrams('pythonist', 'hypnotist') == True\n",
      "PASSED: are_anagrams('hello', 'world') == False\n",
      "PASSED: are_anagrams('test', 'sett') == True\n",
      "PASSED: are_anagrams('test', 'taste') == False\n",
      "PASSED: are_anagrams('Listen', 'Silent') == True\n",
      "PASSED: are_anagrams('LiStEn', 'SiLeNt') == True\n",
      "PASSED: are_anagrams('conversation', 'voices rant on') == True\n",
      "PASSED: are_anagrams('a gentleman', 'elegant man') == True\n",
      "PASSED: are_anagrams('Clint Eastwood', 'Old West Action') == True\n",
      "PASSED: are_anagrams('', '') == True\n",
      "PASSED: are_anagrams(' ', '') == True\n",
      "PASSED: are_anagrams('a', '') == False\n",
      "PASSED: are_anagrams('123', '231') == True\n",
      "PASSED: are_anagrams('abc!', '!cab') == True\n",
      "PASSED: are_anagrams('abc!', 'cab') == False\n",
      "PASSED: Input strings 'Pythonist' and 'hypnotist' were not modified.\n",
      "---\n",
      "All tests passed!\n"
     ]
    }
   ],
   "source": [
    "# Test cases for are_anagrams function\n",
    "test_cases = [\n",
    "    # Positive cases\n",
    "    ('listen', 'silent', True),\n",
    "    ('Orchestra', 'Carthorse', True),\n",
    "    ('pythonist', 'hypnotist', True),\n",
    "    # Negative cases\n",
    "    ('hello', 'world', False),\n",
    "    ('test', 'sett', True),\n",
    "    ('test', 'taste', False),\n",
    "    # Case insensitivity\n",
    "    ('Listen', 'Silent', True),\n",
    "    ('LiStEn', 'SiLeNt', True),\n",
    "    # Spaces ignored\n",
    "    ('conversation', 'voices rant on', True),\n",
    "    ('a gentleman', 'elegant man', True),\n",
    "    ('Clint Eastwood', 'Old West Action', True),\n",
    "    # Empty strings\n",
    "    ('', '', True),\n",
    "    (' ', '', True),\n",
    "    ('a', '', False),\n",
    "    # Punctuation and numbers\n",
    "    ('123', '231', True),\n",
    "    ('abc!', '!cab', True),\n",
    "    ('abc!', 'cab', False)\n",
    "]\n",
    "\n",
    "all_passed = True\n",
    "# Run through the test cases\n",
    "for s1, s2, expected in test_cases:\n",
    "    result = are_anagrams(s1, s2)\n",
    "    if result == expected:\n",
    "        print(f\"PASSED: are_anagrams('{s1}', '{s2}') == {expected}\")\n",
    "    else:\n",
    "        print(f\"FAILED: are_anagrams('{s1}', '{s2}') expected {expected}, got {result}\")\n",
    "        all_passed = False\n",
    "\n",
    "# Additional tests for input strings not being modified\n",
    "test1 = 'Pythonist'\n",
    "test2 = 'hypnotist'\n",
    "if are_anagrams(test1, test2) and test1 == 'Pythonist' and test2 == 'hypnotist':\n",
    "    print(f\"PASSED: Input strings '{test1}' and '{test2}' were not modified.\")\n",
    "else:\n",
    "    print(f\"FAILED: Input strings were modified.\")\n",
    "    all_passed = False\n",
    "\n",
    "print(\"---\")\n",
    "if all_passed:\n",
    "    print(\"All tests passed!\")\n",
    "else:\n",
    "    print(\"Some tests failed.\")"
   ]
  },
  {
   "cell_type": "markdown",
   "metadata": {},
   "source": [
    "#### Hints & Tips\n",
    "\n",
    "1. You want to compare the characters in the two strings, but you don't necessarily need to compare them in the order they appear in the string.\n",
    "2. You can use the `sorted()` function to sort the characters in a string. Note that `sorted()` returns a list, so you may need to convert the result back to a string using (e.g.) the `str.join()` method.\n",
    "3. If you generate a list first, you can also use the `[...].sort()` method to sort the list in place."
   ]
  },
  {
   "cell_type": "markdown",
   "metadata": {},
   "source": [
    "### Finding the median\n",
    "\n",
    "The median value of a list is the number which has an equal number of values above and below it. If the list has an odd number of values, the median is the middle value of the sorted version of the list. If the list has an even number of values, the median is the mean of the two values closed to the middle. \n",
    "\n",
    "Write a function that takes a list of numbers as input and returns the median value of the list. Note that the `statistics` module has a `median` function that you can use to help check your work."
   ]
  },
  {
   "cell_type": "code",
   "execution_count": 21,
   "metadata": {
    "execution": {
     "iopub.execute_input": "2024-08-27T14:32:05.096401Z",
     "iopub.status.busy": "2024-08-27T14:32:05.096052Z",
     "iopub.status.idle": "2024-08-27T14:32:05.098729Z",
     "shell.execute_reply": "2024-08-27T14:32:05.098259Z"
    }
   },
   "outputs": [],
   "source": [
    "def find_median(nums):\n",
    "    \"\"\"\n",
    "    This function finds the median of an array of numbers.\n",
    "\n",
    "    The median is the middle value in an ordered list. If the size of the list is even, there is\n",
    "    no middle value and the median is the mean of the two values closest to the middle.\n",
    "\n",
    "    Examples\n",
    "    --------\n",
    "\n",
    "    >>> find_median([1.0, 3.0, 2.0])\n",
    "    2.0\n",
    "    >>> find_median([1.0, 2.0, 0.0, 4.0])\n",
    "    1.5\n",
    "    >>> find_median([])\n",
    "    None\n",
    "\n",
    "    The function will not modify the input list.\n",
    "\n",
    "    >>> nums = [1.0, 3.0, 2.0, 4.0]\n",
    "    >>> find_median(nums)\n",
    "    2.5\n",
    "    >>> nums == [1.0, 3.0, 2.0, 4.0]\n",
    "    True\n",
    "    \"\"\"\n",
    "    if len(nums) == 0:\n",
    "        return None\n",
    "    sorted_nums = sorted(nums)\n",
    "    n = len(sorted_nums)\n",
    "    mid = n // 2\n",
    "    if n % 2 == 1:\n",
    "        return sorted_nums[mid]\n",
    "    else:\n",
    "        return (sorted_nums[mid - 1] + sorted_nums[mid]) / 2"
   ]
  },
  {
   "cell_type": "code",
   "execution_count": 22,
   "metadata": {},
   "outputs": [
    {
     "name": "stdout",
     "output_type": "stream",
     "text": [
      "PASSED: find_median([1.0, 3.0, 2.0]) == 2.0\n",
      "PASSED: find_median([1.0, 2.0, 0.0, 4.0]) == 1.5\n",
      "PASSED: find_median([]) == None\n",
      "PASSED: find_median([7]) == 7\n",
      "PASSED: find_median([1, 2, 3, 4, 5]) == 3\n",
      "PASSED: find_median([1, 2, 3, 4]) == 2.5\n",
      "PASSED: find_median([5, 4, 3, 2, 1]) == 3\n",
      "PASSED: find_median([1.5, 2.5, 3.5]) == 2.5\n",
      "PASSED: find_median([1.5, 2.5, 3.5, 4.5]) == 3.0\n",
      "PASSED: Input list was not modified.\n",
      "---\n",
      "All find_median tests passed!\n"
     ]
    }
   ],
   "source": [
    "# Tests for find_median\n",
    "test_cases = [\n",
    "    ([1.0, 3.0, 2.0], 2.0),\n",
    "    ([1.0, 2.0, 0.0, 4.0], 1.5),\n",
    "    ([], None),\n",
    "    ([7], 7),\n",
    "    ([1, 2, 3, 4, 5], 3),\n",
    "    ([1, 2, 3, 4], 2.5),\n",
    "    ([5, 4, 3, 2, 1], 3),\n",
    "    ([1.5, 2.5, 3.5], 2.5),\n",
    "    ([1.5, 2.5, 3.5, 4.5], 3.0),\n",
    "]\n",
    "\n",
    "all_passed = True\n",
    "for nums, expected in test_cases:\n",
    "    result = find_median(nums)\n",
    "    if result == expected:\n",
    "        print(f\"PASSED: find_median({nums}) == {expected}\")\n",
    "    else:\n",
    "        print(f\"FAILED: find_median({nums}) expected {expected}, but got {result}\")\n",
    "        all_passed = False\n",
    "\n",
    "# Additional test: input list is not modified\n",
    "nums = [1.0, 3.0, 2.0, 4.0]\n",
    "_ = find_median(nums)\n",
    "if nums == [1.0, 3.0, 2.0, 4.0]:\n",
    "    print(\"PASSED: Input list was not modified.\")\n",
    "else:\n",
    "    print(\"FAILED: Input list was modified.\")\n",
    "    all_passed = False\n",
    "\n",
    "print(\"---\")\n",
    "if all_passed:\n",
    "    print(\"All find_median tests passed!\")\n",
    "else:\n",
    "    print(\"Some tests failed.\")"
   ]
  },
  {
   "cell_type": "markdown",
   "metadata": {},
   "source": [
    "#### Hints & Tips\n",
    "\n",
    "1. You can use the `sorted()` function to sort a list of numbers just as you can use it to sort a string.\n",
    "2. You can use the `len()` function to find the length of a list.\n",
    "3. You can use the `//` operator to perform \"integer\" division (where for example `3//2` is 1). This may be useful for finding the middle element(s) of a list."
   ]
  },
  {
   "cell_type": "markdown",
   "metadata": {},
   "source": [
    "## Harder kata"
   ]
  },
  {
   "cell_type": "markdown",
   "metadata": {},
   "source": [
    "\n",
    "### Insertion sorting\n",
    "\n",
    "There are many different ways to sort a list, such as the [timsort](https://www.geeksforgeeks.org/timsort/) algorithm used in Python, the [bubblesort](https://www.geeksforgeeks.org/bubble-sort/) algorithm (often taught, but which should never be used in production code) or [quicksort](https://www.geeksforgeeks.org/quick-sort/?ref=shm), which might have the best name . One of the easier ways to explain (while still being relevant in real world problems) is to repeatedly take the first unsorted element and insert it into the correct position in the sorted part of the list. This is known as \"insertion sort\".\n",
    "\n",
    "Write a function that takes a list of numbers and returns a new list containing the same numbers in sorted order from lowest to highest via the insertion sort algorithm. You can use the example cases in the docstring to help guide your implementation."
   ]
  },
  {
   "cell_type": "code",
   "execution_count": 23,
   "metadata": {
    "execution": {
     "iopub.execute_input": "2024-08-27T14:32:05.100577Z",
     "iopub.status.busy": "2024-08-27T14:32:05.100426Z",
     "iopub.status.idle": "2024-08-27T14:32:05.103024Z",
     "shell.execute_reply": "2024-08-27T14:32:05.102550Z"
    }
   },
   "outputs": [],
   "source": [
    "def insertion_sort(nums):\n",
    "    \"\"\"\n",
    "    This function sorts an array of numbers using the insertion sort algorithm.\n",
    "\n",
    "    Examples\n",
    "    --------\n",
    "\n",
    "    >>> insertion_sort([3, 1, 2])\n",
    "    [1, 2, 3]\n",
    "    >>> insertion_sort([3, 1, 2, 4])\n",
    "    [1, 2, 3, 4]\n",
    "    >>> insertion_sort([])\n",
    "    []\n",
    "    \"\"\"\n",
    "    sorted_list = []\n",
    "    for num in nums:\n",
    "        # Find the position to insert num\n",
    "        inserted = False\n",
    "        for i in range(len(sorted_list)):\n",
    "            if num < sorted_list[i]:\n",
    "                sorted_list.insert(i, num)\n",
    "                inserted = True\n",
    "                break\n",
    "        if not inserted:\n",
    "            sorted_list.append(num)\n",
    "    return sorted_list"
   ]
  },
  {
   "cell_type": "code",
   "execution_count": 25,
   "metadata": {},
   "outputs": [
    {
     "name": "stdout",
     "output_type": "stream",
     "text": [
      "PASSED: insertion_sort([3, 1, 2]) == [1, 2, 3]\n",
      "PASSED: insertion_sort([3, 1, 2, 4]) == [1, 2, 3, 4]\n",
      "PASSED: insertion_sort([]) == []\n",
      "PASSED: insertion_sort([7]) == [7]\n",
      "PASSED: insertion_sort([5, 4, 3, 2, 1]) == [1, 2, 3, 4, 5]\n",
      "PASSED: insertion_sort([1, 2, 3, 4, 5]) == [1, 2, 3, 4, 5]\n",
      "PASSED: insertion_sort([1.5, 2.5, 0.5]) == [0.5, 1.5, 2.5]\n",
      "PASSED: insertion_sort([2, 2, 1, 1]) == [1, 1, 2, 2]\n",
      "PASSED: Input list was not modified.\n",
      "---\n",
      "All insertion_sort tests passed!\n"
     ]
    }
   ],
   "source": [
    "# Tests for insertion_sort\n",
    "test_cases = [\n",
    "    ([3, 1, 2], [1, 2, 3]),\n",
    "    ([3, 1, 2, 4], [1, 2, 3, 4]),\n",
    "    ([], []),\n",
    "    ([7], [7]),\n",
    "    ([5, 4, 3, 2, 1], [1, 2, 3, 4, 5]),\n",
    "    ([1, 2, 3, 4, 5], [1, 2, 3, 4, 5]),\n",
    "    ([1.5, 2.5, 0.5], [0.5, 1.5, 2.5]),\n",
    "    ([2, 2, 1, 1], [1, 1, 2, 2]),\n",
    "]\n",
    "\n",
    "all_passed = True\n",
    "for nums, expected in test_cases:\n",
    "    result = insertion_sort(nums)\n",
    "    if result == expected:\n",
    "        print(f\"PASSED: insertion_sort({nums}) == {expected}\")\n",
    "    else:\n",
    "        print(f\"FAILED: insertion_sort({nums}) expected {expected}, but got {result}\")\n",
    "        all_passed = False\n",
    "\n",
    "# Additional test: input list is not modified\n",
    "nums = [3, 1, 2]\n",
    "_ = insertion_sort(nums)\n",
    "if nums == [3, 1, 2]:\n",
    "    print(\"PASSED: Input list was not modified.\")\n",
    "else:\n",
    "    print(\"FAILED: Input list was modified.\")\n",
    "    all_passed = False\n",
    "\n",
    "print(\"---\")\n",
    "if all_passed:\n",
    "    print(\"All insertion_sort tests passed!\")\n",
    "else:\n",
    "    print(\"Some tests failed.\")\n",
    "\n"
   ]
  },
  {
   "cell_type": "markdown",
   "metadata": {},
   "source": [
    "#### Hints & Tips\n",
    "\n",
    "1. You will need a new list to store your sorted elements.\n",
    "2. You can use the `list.insert()` method to insert an element at a specific position in a list.\n",
    "3. You will need to iterate over the input list and insert each element into the correct position in the new list. Remember that the new list will be sorted, so if the $n$th element is greater than the test number, the $n+1$th element will be too."
   ]
  },
  {
   "cell_type": "markdown",
   "metadata": {},
   "source": [
    "### Finding perfect numbers\n",
    "\n",
    "A perfect number is a positive integer that is equal to the sum of its proper divisors, excluding itself. For example, the first perfect number is 6, because its proper divisors are 1, 2, and 3, and 1 + 2 + 3 = 6. We call numbers where the sum of the proper divisors is less than the number itself \"deficient\". For example, all prime numbers are deficent, since their only factor is 1. Numbers where the sum of the proper divisors is greater than the number itself a*re called \"abundant\". The first abundant number is 12, because its proper divisors are 1, 2, 3, 4, and 6, and 1 + 2 + 3 + 4 + 6 = 16 > 12.\n",
    "\n",
    "Write a function that takes an integer as input and returns `1`  if the number is abundant, `0` if it is perfect and -1 if it is deficient. You can use the example cases in the docstring to help guide your implementation."
   ]
  },
  {
   "cell_type": "code",
   "execution_count": 26,
   "metadata": {
    "execution": {
     "iopub.execute_input": "2024-08-27T14:32:05.104888Z",
     "iopub.status.busy": "2024-08-27T14:32:05.104737Z",
     "iopub.status.idle": "2024-08-27T14:32:05.107386Z",
     "shell.execute_reply": "2024-08-27T14:32:05.106876Z"
    }
   },
   "outputs": [],
   "source": [
    "def check_perfect(number: int) -> int:\n",
    "    \"\"\"\n",
    "    This function tests if the input number is an abundant, perfect or deficient number.\n",
    "\n",
    "    An abundant number is a positive integer that is smaller than the sum of its proper\n",
    "    divisors. A perfect number is a positive integer that is equal to the sum of its\n",
    "    proper divisors. A deficient number is a positive integer that is greater than the\n",
    "    sum of its proper divisors.\n",
    "\n",
    "    The function returns 1 if the number is abundant, 0 if it is perfect and -1 if it is\n",
    "    deficient.\n",
    "\n",
    "    Examples\n",
    "    --------\n",
    "\n",
    "    >>> check_perfect(6)\n",
    "    0\n",
    "    >>> check_perfect(5)\n",
    "    -1\n",
    "    >>> check_perfect(12)\n",
    "    1\n",
    "    >>> check_perfect(28)\n",
    "    0\n",
    "    \"\"\"\n",
    "    if not isinstance(number, int) or number <= 0:\n",
    "        raise ValueError(\"Input must be a positive integer.\")\n",
    "\n",
    "    proper_divisor_sum = 0\n",
    "    for i in range(1, number // 2 + 1):\n",
    "        if number % i == 0:\n",
    "            proper_divisor_sum += i\n",
    "\n",
    "    if proper_divisor_sum > number:\n",
    "        return 1  # Abundant\n",
    "    elif proper_divisor_sum == number:\n",
    "        return 0  # Perfect\n",
    "    else:\n",
    "        return -1 # Deficient"
   ]
  },
  {
   "cell_type": "code",
   "execution_count": 27,
   "metadata": {},
   "outputs": [
    {
     "name": "stdout",
     "output_type": "stream",
     "text": [
      "PASSED: check_perfect(6) == 0\n",
      "PASSED: check_perfect(28) == 0\n",
      "PASSED: check_perfect(496) == 0\n",
      "PASSED: check_perfect(12) == 1\n",
      "PASSED: check_perfect(18) == 1\n",
      "PASSED: check_perfect(20) == 1\n",
      "PASSED: check_perfect(1) == -1\n",
      "PASSED: check_perfect(2) == -1\n",
      "PASSED: check_perfect(7) == -1\n",
      "PASSED: check_perfect(10) == -1\n",
      "PASSED: check_perfect(13) == -1\n",
      "PASSED: check_perfect(16) == -1\n",
      "\n",
      "Testing invalid input...\n",
      "PASSED: check_perfect(-5) correctly raised a ValueError.\n",
      "PASSED: check_perfect(0) correctly raised a ValueError.\n",
      "PASSED: check_perfect(-100) correctly raised a ValueError.\n",
      "\n",
      "--- Summary ---\n",
      "All tests passed successfully!\n"
     ]
    }
   ],
   "source": [
    "all_passed = True\n",
    "\n",
    "# Test cases for perfect, abundant, and deficient numbers\n",
    "test_cases = [\n",
    "    (6, 0),    # Perfect\n",
    "    (28, 0),   # Perfect\n",
    "    (496, 0),  # Perfect\n",
    "    (12, 1),   # Abundant\n",
    "    (18, 1),   # Abundant\n",
    "    (20, 1),   # Abundant\n",
    "    (1, -1),   # Deficient\n",
    "    (2, -1),   # Deficient\n",
    "    (7, -1),   # Deficient\n",
    "    (10, -1),  # Deficient\n",
    "    (13, -1),  # Deficient\n",
    "    (16, -1),  # Deficient\n",
    "]\n",
    "\n",
    "# Run through the valid test cases\n",
    "for number, expected in test_cases:\n",
    "    result = check_perfect(number)\n",
    "    if result == expected:\n",
    "        print(f\"PASSED: check_perfect({number}) == {expected}\")\n",
    "    else:\n",
    "        print(f\"FAILED: check_perfect({number}) expected {expected}, but got {result}\")\n",
    "        all_passed = False\n",
    "\n",
    "# Additional test for invalid input (non-positive numbers)\n",
    "print(\"\\nTesting invalid input...\")\n",
    "invalid_inputs = [-5, 0, -100]\n",
    "for number in invalid_inputs:\n",
    "    try:\n",
    "        check_perfect(number)\n",
    "        print(f\"FAILED: check_perfect({number}) did not raise a ValueError.\")\n",
    "        all_passed = False\n",
    "    except ValueError:\n",
    "        print(f\"PASSED: check_perfect({number}) correctly raised a ValueError.\")\n",
    "    except Exception as e:\n",
    "        print(f\"FAILED: check_perfect({number}) raised an incorrect error: {e}\")\n",
    "        all_passed = False\n",
    "\n",
    "print(\"\\n--- Summary ---\")\n",
    "if all_passed:\n",
    "    print(\"All tests passed successfully!\")\n",
    "else:\n",
    "    print(\"Some tests failed.\")"
   ]
  },
  {
   "cell_type": "markdown",
   "metadata": {},
   "source": [
    "#### Hints & Tips\n",
    "\n",
    "1. You can use the modulo operator `%` to check if one number is a divisor of another.\n",
    "2. You can use the `range(a, b)` function to generate a sequence of numbers to test as divisors. You only actually need to test numbers up to the square root of the input number, because any divisors larger than that will have a corresponding divisor smaller than the square root. Each time you find a divisor, you can also add its pair to the list of divisors (just check not to add the number itself, or to double count if you're testing a square number).\n",
    "3. Python has an inbuilt `sum()` function that you can use to sum the elements of a list, but it can be faster to keep a running total in a variable.\n",
    "4. Simple implementations can be slow when testing large numbers. Can you think of any ways to spped up your algorithm? Think about when we first know that the sum of factors will be greater than the number itself.\n",
    "\n",
    "#### Further reading\n",
    "\n",
    "* [Perfect numbers](https://en.wikipedia.org/wiki/Perfect_number)\n",
    "* [Deficient numbers](https://en.wikipedia.org/wiki/Deficient_number)\n",
    "* [Abundant numbers](https://en.wikipedia.org/wiki/Abundant_number)\n",
    "* [Estimating the density of abundant numbers](https://digitalcommons.cwu.edu/cgi/viewcontent.cgi?article=1059&context=math)"
   ]
  },
  {
   "cell_type": "markdown",
   "metadata": {},
   "source": [
    "## Looking for more?\n",
    "\n",
    "If you're looking for even more practice, you can find many more katas on websites like [CodeWars](https://www.codewars.com/) and [LeetCode](https://leetcode.com/). These websites allow you to practice your skills by completing coding challenges and comparing your solutions to others."
   ]
  }
 ],
 "metadata": {
  "kernelspec": {
   "display_name": "Python 3",
   "language": "python",
   "name": "python3"
  },
  "language_info": {
   "codemirror_mode": {
    "name": "ipython",
    "version": 3
   },
   "file_extension": ".py",
   "mimetype": "text/x-python",
   "name": "python",
   "nbconvert_exporter": "python",
   "pygments_lexer": "ipython3",
   "version": "3.11.9"
  }
 },
 "nbformat": 4,
 "nbformat_minor": 2
}
